{
 "cells": [
  {
   "cell_type": "code",
   "execution_count": 130,
   "metadata": {},
   "outputs": [],
   "source": [
    "import matplotlib.pyplot as yplt\n",
    "import matplotlib as plt\n",
    "import numpy as np\n",
    "import csv\n",
    "import re"
   ]
  },
  {
   "cell_type": "markdown",
   "metadata": {},
   "source": [
    "# Projet de Conception des Systèmes vibratoires 2024/2025\n",
    "## Clotilde LIAUTARD / Aymeric ISENBART / Xavier WEISSENBERGER  \n"
   ]
  },
  {
   "cell_type": "markdown",
   "metadata": {},
   "source": [
    "#### **Questions** : \n",
    "\n",
    "**Question 1 :** L'inertie la plus élevée de la chaine est celle du volant moteur (avec 1.975 kg.m²) ce qui est cohérent car un volant d'embrayage est souvent la pièce la plus lourde et avec le plus grand diamètre dans un moteur.\n",
    "\n",
    "**Question 2 :** Les valeurs différentes d'interties entre certains cylindres peuvent s'expliquer par le fait que ceux ci ne sont pas dans les mêmes phases de mouvement en même temps (admission, compression ou combustion).\n",
    "\n",
    "**Question 3 :** Le signe ressemblant à une résistance sur le schéma signifie les endroits où l'accoupplement possède un moyen d'amortir les vibrations du système.\n",
    "\n",
    "**Question 4 :** La raideur en torsion d'arbre la plus faible est entre l'anneau de Damper (18) et son enveloppe (4). Les dampers sont souvent conçus pour dissiper les vibrations et absorber les chocs. Dans ce contexte, l'anneau de damper est généralement monté sur l'arbre de manière à permettre un certain mouvement relatif entre l'anneau et l'enveloppe sans créer de rigidité significative. Cela signifie qu'il peut \"glisser\" ou se déformer sans appliquer de force de torsion à l'arbre.\n",
    "\n",
    "**Question 5 :** L'Hydrodamp se compose d'un système d'amortissement et d'un système d'isolation. Le système d'amortissement comprend un anneau placé entre la masse primaire et la masse secondaire, avec un jeu défini qui permet d'absorber et d'isoler les vibrations. L'objectif est de prévenir la transmission des amplitudes de vibration, ce qui nécessite une isolation optimale. De plus, le système d'amortissement atténue les grandes amplitudes de vibration lors du passage à travers un étage de résonance. Ces deux fonctions nécessitent donc des raideurs distinctes.\n",
    "\n",
    "**Question 6** L'amortissement entre les pièces 2<=>3, 12<=>13 et 4<=>18 sont des amortissement relatifs, tandis que pour les différents cylindres il s'agit d'amortissements absolues, la différence ici est que l'amortissement relatif se caractérise par le mouvement d'une pièce par rapport à une autre et l'amortissement absolue est plutôt basé sur le mouvement par rapport à un point fixe.\n",
    "\n",
    "**Question 7** Dans notre système, la roue dentée (14) est sousmise à des efforts, cependant, la déformation des dents étant négligeable devant la vibration des autres pièces, on ne représentera alors pas la force."
   ]
  },
  {
   "cell_type": "code",
   "execution_count": 131,
   "metadata": {},
   "outputs": [],
   "source": [
    "def readCsv(adress):\n",
    "    with open(adress, encoding='utf-8-sig') as fichier_csv:\n",
    "        lecteur_csv = csv.reader(fichier_csv)\n",
    "        \n",
    "        #Convertir en matrice (liste de listes)\n",
    "        K = [ligne[:18] for ligne in list(lecteur_csv)[:18]]\n",
    "        K = [[float(cellule) for cellule in ligne] for ligne in K]\n",
    "\n",
    "    # Afficher la matrice\n",
    "    #print(K)\n",
    "\n",
    "    return K"
   ]
  },
  {
   "cell_type": "code",
   "execution_count": 132,
   "metadata": {},
   "outputs": [],
   "source": [
    "\"\"\"On cherche les pulsations propres\n",
    "    --> On passe en complexe, sans amortissement ni frottements visqueux\n",
    "        --> w2 = M^(-1)*K\n",
    "    --> Il y a autant de mode propre que de ddl\n",
    "\"\"\"\n",
    "\n",
    "def modePropre(M,K):\n",
    "    #print(\"M-1*K :\\n\", np.linalg.inv(M),\"\\n\", K)\n",
    "    lmd = np.dot(np.linalg.inv(M),K)\n",
    "    #print(\"lamda :\\n\", lmd)\n",
    "\n",
    "    valPropre, vecPropre = np.linalg.eig(lmd)\n",
    "\n",
    "    # Obtenir les indices qui trient les valeurs propres par ordre croissant\n",
    "    indices_tri = np.argsort(valPropre)\n",
    "    print(indices_tri)\n",
    "\n",
    "    # Trier les valeurs propres\n",
    "    valeurs_propres_triees = valPropre[indices_tri]\n",
    "\n",
    "    # Trier les vecteurs propres en fonction des indices triés\n",
    "    vecteurs_propres_triees = vecPropre[:, indices_tri]\n",
    "\n",
    "    return(valeurs_propres_triees, vecteurs_propres_triees)"
   ]
  },
  {
   "cell_type": "code",
   "execution_count": 133,
   "metadata": {},
   "outputs": [],
   "source": [
    "# Tracage des déformations modales :\n",
    "\n",
    "def DeformeeModale(M, K, Nddl):\n",
    "    x = np.linspace(0, Nddl+1,Nddl+2) #Liste des abscisses\n",
    "    #print(x)\n",
    "\n",
    "    A = modePropre(M, K)\n",
    "    valp = A[0]\n",
    "    vecp = A[1]\n",
    "\n",
    "    y = np.zeros([Nddl, len(x)])\n",
    "    #print(vecp)\n",
    "    for i, ln in enumerate(vecp):\n",
    "        #print(ln, \" -\", len(y[i][1:-1]))\n",
    "        y[i][1:-1] = ln/ln[0]\n",
    "\n",
    "    #print(y)\n",
    "\n",
    "    for i, ln in enumerate(y):\n",
    "        yplt.plot(x, ln, label=\"Mode\" + str(i+1))\n",
    "    yplt.title(\"Déformée modale\")\n",
    "    yplt.grid()\n",
    "    yplt.legend()\n",
    "\n",
    "\n",
    "def DeformeeModale(M, K, Nddl, ls):\n",
    "    x = np.linspace(0, Nddl+1,Nddl+2) #Liste des abscisses\n",
    "    #print(x)\n",
    "\n",
    "    A = modePropre(M, K)\n",
    "    vecp = A[1]\n",
    "\n",
    "    y = np.zeros([len(ls), len(x)])\n",
    "    #print(vecp)\n",
    "\n",
    "    for i in ls:\n",
    "        y[i][1:-1] = vecp[i]/vecp[i][0]\n",
    "\n",
    "    for i, ln in enumerate(y):\n",
    "        yplt.plot(x, ln, label=\"Mode\" + str(i+1))\n",
    "    yplt.title(\"Déformée modale\")\n",
    "    yplt.grid()\n",
    "    yplt.legend()"
   ]
  },
  {
   "cell_type": "code",
   "execution_count": 134,
   "metadata": {},
   "outputs": [],
   "source": [
    "\"\"\"On cherche maintenant la reponse en fréquence\n",
    "    --> X=A-1F\"\"\"\n",
    "\n",
    "def repFrequence(M, K, F, fmin, fmax):\n",
    "    convPulsFreq = 1/(2*3.14)\n",
    "    convRadDeg = 180/3.14\n",
    "\n",
    "    w = np.linspace(fmin/convPulsFreq, fmax/convPulsFreq, 2000)\n",
    "    \n",
    "    Teta = np.zeros([Nddl, len(w)])\n",
    "\n",
    "    for i, x in enumerate(w):\n",
    "        A = K - (x**2)*M\n",
    "        #print(\"\\n\", A, \"\\n\")\n",
    "\n",
    "        B = np.linalg.inv(A)\n",
    "\n",
    "        X = np.dot(B,F)\n",
    "        #print(\"\\nX :\\n\", X)\n",
    "        for j,Y in enumerate(X):\n",
    "            Teta[j][i] = np.abs(Y*convRadDeg)\n",
    "    \n",
    "    return(w*convPulsFreq, Teta)"
   ]
  },
  {
   "cell_type": "code",
   "execution_count": 135,
   "metadata": {},
   "outputs": [
    {
     "data": {
      "text/plain": [
       "'data = repFrequence(M, K, F, 0, 40000)\\nprint(data[0])\\nprint(\"\\n\\n\")\\nprint(data[1])\\n\\nfor i, ln in enumerate(data[1]):\\n    yplt.plot(data[0], ln, label=\"Volant \"+str(i+1))\\nyplt.title(\"Réponse en fréquence du système\")\\nyplt.grid()\\nyplt.xlabel(\"Fréquence [hz]\")\\nyplt.ylabel(\"Amplitude de vibration [°]\")\\nyplt.legend()\\n\\n#\" - max def = \" + max(ln)) + \" en f=\"+ str(np.where(ln == max(ln)[0][0])*convPulsFreq)\\n\\nprint(\"\\n\\n\")\\nfor i, ln in enumerate(data[1]):\\n    txt = \"Objet\" + str(i+1) + \" -- Xmax =\"\\n    txt += str(round(max(ln),5)) + \"deg en f=\"\\n    txt += str(round(data[0][np.where(ln == max(ln))[0][0]])) + \"Hz\"\\n    print(txt)'"
      ]
     },
     "execution_count": 135,
     "metadata": {},
     "output_type": "execute_result"
    }
   ],
   "source": [
    "\"\"\"data = repFrequence(M, K, F, 0, 40000)\n",
    "print(data[0])\n",
    "print(\"\\n\\n\")\n",
    "print(data[1])\n",
    "\n",
    "for i, ln in enumerate(data[1]):\n",
    "    yplt.plot(data[0], ln, label=\"Volant \"+str(i+1))\n",
    "yplt.title(\"Réponse en fréquence du système\")\n",
    "yplt.grid()\n",
    "yplt.xlabel(\"Fréquence [hz]\")\n",
    "yplt.ylabel(\"Amplitude de vibration [°]\")\n",
    "yplt.legend()\n",
    "\n",
    "#\" - max def = \" + max(ln)) + \" en f=\"+ str(np.where(ln == max(ln)[0][0])*convPulsFreq)\n",
    "\n",
    "print(\"\\n\\n\")\n",
    "for i, ln in enumerate(data[1]):\n",
    "    txt = \"Objet\" + str(i+1) + \" -- Xmax =\"\n",
    "    txt += str(round(max(ln),5)) + \"deg en f=\"\n",
    "    txt += str(round(data[0][np.where(ln == max(ln))[0][0]])) + \"Hz\"\n",
    "    print(txt)\"\"\""
   ]
  },
  {
   "cell_type": "code",
   "execution_count": 136,
   "metadata": {},
   "outputs": [
    {
     "name": "stderr",
     "output_type": "stream",
     "text": [
      "<>:1: SyntaxWarning: invalid escape sequence '\\K'\n",
      "<>:2: SyntaxWarning: invalid escape sequence '\\K'\n",
      "<>:3: SyntaxWarning: invalid escape sequence '\\J'\n",
      "<>:1: SyntaxWarning: invalid escape sequence '\\K'\n",
      "<>:2: SyntaxWarning: invalid escape sequence '\\K'\n",
      "<>:3: SyntaxWarning: invalid escape sequence '\\J'\n",
      "C:\\Users\\aymer\\AppData\\Local\\Temp\\ipykernel_19076\\2068236795.py:1: SyntaxWarning: invalid escape sequence '\\K'\n",
      "  adress_K = \"Matrices\\K.csv\"\n",
      "C:\\Users\\aymer\\AppData\\Local\\Temp\\ipykernel_19076\\2068236795.py:2: SyntaxWarning: invalid escape sequence '\\K'\n",
      "  adress_Ka = \"Matrices\\Ka.csv\"\n",
      "C:\\Users\\aymer\\AppData\\Local\\Temp\\ipykernel_19076\\2068236795.py:3: SyntaxWarning: invalid escape sequence '\\J'\n",
      "  adress_J = \"Matrices\\J.csv\"\n"
     ]
    }
   ],
   "source": [
    "adress_K = \"Matrices\\K.csv\"\n",
    "adress_Ka = \"Matrices\\Ka.csv\"\n",
    "adress_J = \"Matrices\\J.csv\"\n",
    "\n",
    "ls = [0,1,2,3,4]\n",
    "\n",
    "Nddl=18\n",
    "\n",
    "K=readCsv(adress_K)\n",
    "Ka=readCsv(adress_Ka)\n",
    "J=readCsv(adress_J)\n"
   ]
  },
  {
   "cell_type": "code",
   "execution_count": 137,
   "metadata": {},
   "outputs": [
    {
     "name": "stdout",
     "output_type": "stream",
     "text": [
      "[ 8 11 17 14 12 15 13 16  9 10  7  5  6  4  3  2  1  0]\n",
      "Valeurs propres :\n",
      "0 :  -13105881.429265998\n",
      "1 :  -1879101.8484930922\n",
      "2 :  0.0\n",
      "3 :  4332.178614846487\n",
      "4 :  382856.4206921338\n",
      "5 :  4844406.945891657\n",
      "6 :  7224923.9112174865\n",
      "7 :  10995433.36387848\n",
      "8 :  22281874.966428816\n",
      "9 :  26128729.82527112\n",
      "10 :  46354404.82538742\n",
      "11 :  66929126.40596151\n",
      "12 :  71780924.0317104\n",
      "13 :  98156336.58674423\n",
      "14 :  107189976.34271362\n",
      "15 :  154772508.16455105\n",
      "16 :  22810790515.455704\n",
      "17 :  253384149263.8046\n",
      "[ 8 11 17 14 12 15 13 16  9 10  7  5  6  4  3  2  1  0]\n"
     ]
    },
    {
     "data": {
      "image/png": "[encoded data removed]",
      "text/plain": [
       "<Figure size 640x480 with 1 Axes>"
      ]
     },
     "metadata": {},
     "output_type": "display_data"
    }
   ],
   "source": [
    "A = modePropre(J,K)\n",
    "\n",
    "print(\"Valeurs propres :\")\n",
    "for i in range(0, 18):\n",
    "    print(i, \": \", A[0][i])\n",
    "\n",
    "DeformeeModale(J, K, Nddl, ls)"
   ]
  }
 ],
 "metadata": {
  "kernelspec": {
   "display_name": "Python 3",
   "language": "python",
   "name": "python3"
  },
  "language_info": {
   "codemirror_mode": {
    "name": "ipython",
    "version": 3
   },
   "file_extension": ".py",
   "mimetype": "text/x-python",
   "name": "python",
   "nbconvert_exporter": "python",
   "pygments_lexer": "ipython3",
   "version": "3.12.7"
  }
 },
 "nbformat": 4,
 "nbformat_minor": 2
}
